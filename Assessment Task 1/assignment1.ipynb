{
 "cells": [
  {
   "cell_type": "markdown",
   "metadata": {},
   "source": [
    "# Assignment 1\n",
    "\n",
    "ϞϞ(๑⚈ ․̫ ⚈๑)\n",
    "\n",
    "You are pokemon trainer, and you want to be the very best. However, traveling across the land and searching far and wide isn't really your thing... So instead, you decide to explore your pokedex data to find the best pokemons.\n",
    "\n",
    "The data can be found under `pokedex/pokemons.csv`. In lecture 2.2, we learned how to open `.csv` files with pandas. Run the cell below to get an overview of the dataset:"
   ]
  },
  {
   "cell_type": "code",
   "execution_count": 1,
   "metadata": {},
   "outputs": [
    {
     "ename": "ModuleNotFoundError",
     "evalue": "No module named 'pandas'",
     "output_type": "error",
     "traceback": [
      "\u001b[0;31m---------------------------------------------------------------------------\u001b[0m",
      "\u001b[0;31mModuleNotFoundError\u001b[0m                       Traceback (most recent call last)",
      "\u001b[0;32m<ipython-input-1-acd48ce15b26>\u001b[0m in \u001b[0;36m<module>\u001b[0;34m()\u001b[0m\n\u001b[0;32m----> 1\u001b[0;31m \u001b[0;32mimport\u001b[0m \u001b[0mpandas\u001b[0m \u001b[0;32mas\u001b[0m \u001b[0mpd\u001b[0m\u001b[0;34m\u001b[0m\u001b[0;34m\u001b[0m\u001b[0m\n\u001b[0m\u001b[1;32m      2\u001b[0m \u001b[0;32mimport\u001b[0m \u001b[0mnumpy\u001b[0m \u001b[0;32mas\u001b[0m \u001b[0mnp\u001b[0m\u001b[0;34m\u001b[0m\u001b[0;34m\u001b[0m\u001b[0m\n\u001b[1;32m      3\u001b[0m \u001b[0;34m\u001b[0m\u001b[0m\n\u001b[1;32m      4\u001b[0m \u001b[0mdf\u001b[0m \u001b[0;34m=\u001b[0m \u001b[0mpd\u001b[0m\u001b[0;34m.\u001b[0m\u001b[0mread_csv\u001b[0m\u001b[0;34m(\u001b[0m\u001b[0;34m'pokedex/pokemons.csv'\u001b[0m\u001b[0;34m)\u001b[0m\u001b[0;34m\u001b[0m\u001b[0;34m\u001b[0m\u001b[0m\n\u001b[1;32m      5\u001b[0m \u001b[0mdf\u001b[0m\u001b[0;34m.\u001b[0m\u001b[0mhead\u001b[0m\u001b[0;34m(\u001b[0m\u001b[0;34m)\u001b[0m\u001b[0;34m\u001b[0m\u001b[0;34m\u001b[0m\u001b[0m\n",
      "\u001b[0;31mModuleNotFoundError\u001b[0m: No module named 'pandas'"
     ]
    }
   ],
   "source": [
    "import pandas as pd\n",
    "import numpy as np\n",
    "\n",
    "df = pd.read_csv('pokedex/pokemons.csv')\n",
    "df.head()"
   ]
  },
  {
   "cell_type": "markdown",
   "metadata": {},
   "source": [
    "## Problem 1 \n",
    "\n",
    "Oh dear, Professor Oak just texted us: there's a mistake in the pokedex! 🙀 `Farfetch'd` is actually a `Legendary` pokemon!\n",
    "\n",
    "💪 **Task: Update the `Legendary` value of the row where `Name == \"Farfetch'd\"` to `True`.**\n",
    "\n",
    "Pro-tip: there are many ways to create strings in python. Pick the right one from the [documentation](https://docs.python.org/3/tutorial/introduction.html#strings) to avoid clashes with the `'` symbol in the pokemon name."
   ]
  },
  {
   "cell_type": "code",
   "execution_count": null,
   "metadata": {},
   "outputs": [],
   "source": [
    "# INSERT YOUR CODE HERE\n",
    "df.loc[(df['Name'] == \"Farfetch\\'d\"), 'Legendary'] = True"
   ]
  },
  {
   "cell_type": "code",
   "execution_count": null,
   "metadata": {},
   "outputs": [],
   "source": [
    "def test_farfetchd_update():\n",
    "    legendary_count = df['Legendary'].sum()\n",
    "    assert legendary_count == 66, f\"With Farfetch'd, there should now be 66 legendary pokemons, but there are only {legendary_count}\" \n",
    "    print('Success! 🎉')\n",
    "    \n",
    "test_farfetchd_update()"
   ]
  },
  {
   "cell_type": "markdown",
   "metadata": {},
   "source": [
    "## Problem 2\n",
    "\n",
    "Your pokemons always run out of hit points in battle 😒. Find the pokemon with the highest `HP` stat!\n",
    "\n",
    "💪 **Task: Find the `Name` of the pokemon with the highest `HP` value.**\n",
    "\n",
    "The name should be returned by functional code in a cell output below:"
   ]
  },
  {
   "cell_type": "code",
   "execution_count": null,
   "metadata": {},
   "outputs": [],
   "source": [
    "# INSERT YOUR CODE HERE\n",
    "def besthppokemon():\n",
    "    hp = df.sort_values(by='HP', ascending=False)\n",
    "    return hp.head(1)\n",
    "\n",
    "besthppokemon()"
   ]
  },
  {
   "cell_type": "markdown",
   "metadata": {},
   "source": [
    "## Problem 3\n",
    "\n",
    "Everyone knows that winning battles is all about attack. If only there was a way to know which pokemon had the highest combined `Attack` and `Sp. Atk`...\n",
    "\n",
    "💪 **Task: Create a new column called `Total Attack` defined as follows:**\n",
    "\n",
    "$\n",
    "Total\\, Attack = Attack + Sp. Atk\n",
    "$\n"
   ]
  },
  {
   "cell_type": "code",
   "execution_count": null,
   "metadata": {},
   "outputs": [],
   "source": [
    "# INSERT YOUR CODE HERE\n",
    "df['Total Attack'] = df['Attack'] + df['Sp. Atk']"
   ]
  },
  {
   "cell_type": "code",
   "execution_count": null,
   "metadata": {},
   "outputs": [],
   "source": [
    "def test_total_attack_column():\n",
    "    assert 'Total Attack' in df.columns, f'Total Attack is missing from the dataframe\\'s columns'\n",
    "    print('Success! 🎉')\n",
    "    \n",
    "def test_total_attack_values():\n",
    "    assert df.loc[666, 'Total Attack'] == 140, f\"There was an error in the Total Attack value\"\n",
    "    print('Success! 🎉')\n",
    "\n",
    "test_total_attack_column()\n",
    "test_total_attack_values()"
   ]
  },
  {
   "cell_type": "markdown",
   "metadata": {},
   "source": [
    "## Problem 4\n",
    "\n",
    "You would like to train pokemons of similar type, since you aspire to one day become another Gym Leader with a single weakness 🤷‍♂️. But since you are data driven, you would like to pick only the \"smart\" pokemon types that have high average `Sp. Def`.\n",
    "\n",
    "💪  **Task: _Filter_ your dataframe so that only `Type 1` groups whose average `Sp. Def` is greater than 80 remain.**\n",
    "\n",
    "Pro-tip 1: you should only consider `Type 1` in this exercise.  \n",
    "Pro-tip 2: make sure that you update the `df` variable with the new filtered dataframe.\n"
   ]
  },
  {
   "cell_type": "code",
   "execution_count": null,
   "metadata": {},
   "outputs": [],
   "source": [
    "# INSERT YOUR CODE HERE\n",
    "df = df.groupby('Type 1').filter(lambda df: df['Sp. Def'].mean() > 80)"
   ]
  },
  {
   "cell_type": "code",
   "execution_count": null,
   "metadata": {},
   "outputs": [],
   "source": [
    "def test_filter_weak_types():\n",
    "    n_unique_type1 = df['Type 1'].nunique()\n",
    "    assert n_unique_type1 == 4, f'Found {n_unique_type1} unique values of \"Type 1\" after filtering, expected 4'\n",
    "    assert len(df) == 133, f'Found {len(df)} pokemons after filtering, expected 133'\n",
    "    print('Success! 🎉')\n",
    "    \n",
    "test_filter_weak_types()"
   ]
  },
  {
   "cell_type": "markdown",
   "metadata": {},
   "source": [
    "## Problem 5\n",
    "\n",
    "Finally, you would like to save this dataframe of \"smart pokemons\" as a new dataset in your pokedex, so that later you can pick your best friend and defend the world. 🌏\n",
    "\n",
    "**Task: Save the filtered dataframe of \"smart\" pokemons to a new dataset, under `pokedex/smart_pokemons.csv`.**\n",
    "\n",
    "Pro-tip: you might want to look up this [method](https://pandas.pydata.org/pandas-docs/stable/reference/api/pandas.DataFrame.to_csv.html).\n",
    "\n"
   ]
  },
  {
   "cell_type": "code",
   "execution_count": null,
   "metadata": {},
   "outputs": [],
   "source": [
    "# INSERT YOUR CODE HERE\n",
    "df.to_csv('pokedex/smart_pokemons.csv', header = True, index = False)"
   ]
  },
  {
   "cell_type": "code",
   "execution_count": null,
   "metadata": {},
   "outputs": [],
   "source": [
    "def test_new_dataset():\n",
    "    datasets = !ls pokedex\n",
    "    assert len(datasets) == 2, f'Expected 2 datasets, pokemons and smart_pokemons, but found {len(datasets)}'\n",
    "    df = pd.read_csv('pokedex/smart_pokemons.csv')\n",
    "    assert len(df) == 133, f'Found {len(df)} smart pokemons, expected 133'\n",
    "    print('Success! 🎉')\n",
    "    \n",
    "test_new_dataset()"
   ]
  }
 ],
 "metadata": {
  "kernelspec": {
   "display_name": "Python 3",
   "language": "python",
   "name": "python3"
  },
  "language_info": {
   "codemirror_mode": {
    "name": "ipython",
    "version": 3
   },
   "file_extension": ".py",
   "mimetype": "text/x-python",
   "name": "python",
   "nbconvert_exporter": "python",
   "pygments_lexer": "ipython3",
   "version": "3.6.9"
  }
 },
 "nbformat": 4,
 "nbformat_minor": 4
}
