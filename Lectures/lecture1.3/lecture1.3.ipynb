{
 "cells": [
  {
   "cell_type": "markdown",
   "metadata": {},
   "source": [
    "# Lecture 1.3: Fundamentals of Data Engineering\n",
    "\n",
    "[**Lecture slides**](https://docs.google.com/presentation/d/1Vm1exKZKIjunL2IrO3aL19r1Fi2aimYvHkfg-B-DWx4/edit?usp=sharing)\n",
    "\n",
    "This lecture, the computer lab exercises were replaced by a demo of building a simple data lake with [minio](https://min.io/), which is a lightweight open source object storage. You can try it out by following these [instructions](https://docs.min.io/docs/minio-quickstart-guide.html). \n",
    "\n",
    "Bilal also generously shared his guide for installing on linux, to make sure `chmod` is run with sudo privileges:\n",
    "\n",
    "<blockquote> \n",
    "So for anyone who wants to experiment with MINIO on Linux, I have spent an awful lot of time here and there and you could save time. Here's the installation instructions for it. Depending on your system architecture choose one of the following:  \n",
    "\n",
    "* AMD64  \n",
    "    \n",
    "        wget https://dl.min.io/server/minio/release/linux-amd64/minio  \n",
    "    \n",
    "* PPC64LE\n",
    "    \n",
    "        wget https://dl.min.io/server/minio/release/linux-ppc64le/minio\n",
    "    \n",
    "Now the next step is to change the permissions and make it into an executable, in my case, I had to do it as SUPERUSER. That can be done with:\n",
    "    \n",
    "    sudo -s\n",
    "    [Enter Password as prompted]\n",
    "    su\n",
    "    #Now you're in superuser\n",
    "    \n",
    "Just use   `chmod +x minio`   to make your installation into an executable.\n",
    "Finally to start your own MINIO Server, just use the following command:\n",
    "    \n",
    "    ./minio server /(foldername)\n",
    "The default settings shall let you access it at http://localhost:9000/ . The username and password are both `minioadmin` at default.\n",
    "Enjoy! 🎊\n",
    "</blockquote>\n",
    "\n",
    "\n"
   ]
  },
  {
   "cell_type": "markdown",
   "metadata": {},
   "source": [
    "# Resources\n",
    "\n",
    "### Core Resources\n",
    "- [**Slides**](https://docs.google.com/presentation/d/1Vm1exKZKIjunL2IrO3aL19r1Fi2aimYvHkfg-B-DWx4/edit?usp=sharing)\n",
    "- [The AI hierarchy of needs](https://hackernoon.com/the-ai-hierarchy-of-needs-18f111fcc007)  \n",
    "Great article highlighting the importance of healthy data engineering to fuel cutting edge machine learning.\n",
    "- [The rise of the data engineer](https://www.freecodecamp.org/news/the-rise-of-the-data-engineer-91be18f1e603/)  \n",
    "Short but precise description of the role of data engineer in the age of AI.\n",
    "- [Code academy SQL](https://www.codecademy.com/learn/learn-sql)  \n",
    "Free and interactive lessons to learn SQL basics.\n",
    "\n",
    "### Additional Resources\n",
    "- [Stanford MOOC - SQL & relational databases](https://cs.stanford.edu/people/widom/DB-mooc.html)  \n",
    "Deeper dive into SQL.\n",
    "- [Data engineering - a quick and simple definition](https://www.oreilly.com/content/data-engineering-a-quick-and-simple-definition/)  \n",
    "Concise summary of differences between data engineering and data science.\n",
    "- [The four Vs of big data](https://www.ibmbigdatahub.com/infographic/four-vs-big-data)  \n",
    "Classic (albeit slightly \"hyped\") description of big data.\n",
    "- [Data engineer - comprehensive resources to get started](https://www.analyticsvidhya.com/blog/2018/11/data-engineer-comprehensive-list-resources-get-started/)  \n",
    "Great list of important technologies to know as a data engineer"
   ]
  }
 ],
 "metadata": {
  "kernelspec": {
   "display_name": "Python 3",
   "language": "python",
   "name": "python3"
  },
  "language_info": {
   "codemirror_mode": {
    "name": "ipython",
    "version": 3
   },
   "file_extension": ".py",
   "mimetype": "text/x-python",
   "name": "python",
   "nbconvert_exporter": "python",
   "pygments_lexer": "ipython3",
   "version": "3.8.2"
  }
 },
 "nbformat": 4,
 "nbformat_minor": 4
}
