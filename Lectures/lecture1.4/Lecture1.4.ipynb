{
 "cells": [
  {
   "cell_type": "markdown",
   "metadata": {},
   "source": [
    "# Lecture 1.4: Data Pipelines\n",
    "\n",
    "This lecture, we are going to implement a small data pipeline in python. It will take raw text files from a \"data warehouse\", extract, transform, then load them back into a different dataset. Then, we will automate this pipeline by scheduling it with cron.\n",
    "\n",
    "**Learning goals:**\n",
    "- implement a simple data pipeline\n",
    "- write python functions\n",
    "- write a python script\n",
    "- learn python File I/O\n",
    "- schedule a cron task with crontab"
   ]
  },
  {
   "cell_type": "markdown",
   "metadata": {},
   "source": [
    "## 1 Reading Files\n",
    "\n",
    "We are in the middle of a global pandemic, and there's a lot of information traded online, especially with so many of us are confined in our homes. Twitter is a common place where data scientists gauge public opinion or group behaviour. In our data warehouse, we have ~ 100 tweets containing the `#corona` hashtag. We want to get some insights into the epidemic by analysing the text data. \n",
    "\n",
    "For this, we'll have to open files in python. But first, let's investigate what we have in our data warehouse. \n",
    "\n",
    "ℹ️ You can run bash commands in a jupyter notebook by preceding them with a a bang (`!`)."
   ]
  },
  {
   "cell_type": "code",
   "execution_count": 1,
   "metadata": {},
   "outputs": [
    {
     "name": "stdout",
     "output_type": "stream",
     "text": [
      "covid_tweets  tweets\r\n"
     ]
    }
   ],
   "source": [
    "!ls data_warehouse"
   ]
  },
  {
   "cell_type": "markdown",
   "metadata": {},
   "source": [
    "One directory, `tweets`. Let's see what's inside:"
   ]
  },
  {
   "cell_type": "code",
   "execution_count": 2,
   "metadata": {},
   "outputs": [
    {
     "name": "stdout",
     "output_type": "stream",
     "text": [
      "0a63eb60b0ab4222ab6bb63bac648d8f.txt\r\n",
      "0b0043cd1dbb413c95f5a6bf22a0683d.txt\r\n",
      "13031cdfec3846b4849e0f2846e3c696.txt\r\n",
      "1870e02eedb64721b3eccfde8245c8e8.txt\r\n",
      "1d362230e83046668d13bc726159f499.txt\r\n",
      "2196197adc4a4231a5b18425820de9a3.txt\r\n",
      "2378c8aad6ce478f996c72c6c579220a.txt\r\n",
      "23b10fcb7c6345e9ad8f2f0276e16d44.txt\r\n",
      "24a31675e04c40d8a6d3e91c93d6b99a.txt\r\n",
      "268fbf1747c049709e723537bce8c1f6.txt\r\n"
     ]
    }
   ],
   "source": [
    "!ls data_warehouse/tweets | head"
   ]
  },
  {
   "cell_type": "markdown",
   "metadata": {},
   "source": [
    "That's our tweets! Now we want to read one of these tweets. We could use `cat` or a text editor, but let's try loading the data directly in python. \n",
    "\n",
    "💪 With the help of this [documentation](https://docs.python.org/3/tutorial/inputoutput.html), open the contents of `0a63eb60b0ab4222ab6bb63bac648d8f.txt` in python! Display the tweet in clear text in the cell output."
   ]
  },
  {
   "cell_type": "code",
   "execution_count": 23,
   "metadata": {},
   "outputs": [
    {
     "name": "stdout",
     "output_type": "stream",
     "text": [
      "Mrs Sonia Gandhi : This decision to remain at home will restrict transmission of this virus. All of us must spread awareness that frequent hand washing, not touching face &amp; reporting all flu/ influenza like conditions to medical help line or  doctor needs to be adhered to #Corona https://t.co/x9zU18P4oV\n"
     ]
    }
   ],
   "source": [
    "with open('data_warehouse/tweets/0a63eb60b0ab4222ab6bb63bac648d8f.txt') as f:\n",
    "    read_data = f.read()\n",
    "    \n",
    "    print(read_data)"
   ]
  },
  {
   "cell_type": "markdown",
   "metadata": {},
   "source": [
    "🧠 Congrats! You should have used the `with` keyword. If not, please try again. Can you explain why the  `with` keyword is considered good practice?"
   ]
  },
  {
   "cell_type": "markdown",
   "metadata": {},
   "source": [
    "💪 Now let's make a function to open a text file for a given path, it'll be much easier to use. Copy your working code from the cell above to complete this function. Your function should return a `string` of the text inside the file."
   ]
  },
  {
   "cell_type": "code",
   "execution_count": 24,
   "metadata": {},
   "outputs": [],
   "source": [
    "def read_file(path):\n",
    "    # INSERT YOUR CODE HERE\n",
    "    \n",
    "    with open(path) as f:\n",
    "        read_data = f.read()\n",
    "        return read_data"
   ]
  },
  {
   "cell_type": "markdown",
   "metadata": {},
   "source": [
    "Let's try it out. If the following code cell doesn't return the tweet content, go back and try again!"
   ]
  },
  {
   "cell_type": "code",
   "execution_count": 25,
   "metadata": {},
   "outputs": [
    {
     "data": {
      "text/plain": [
       "\"couldn't wait to turn 21 Sit in the backyard sun and drink beer with dad Drinking beer with dad Out there on the back porch swinging Drinking beer with dad #Corona\\n\""
      ]
     },
     "execution_count": 25,
     "metadata": {},
     "output_type": "execute_result"
    }
   ],
   "source": [
    "read_file('data_warehouse/tweets/c03af4427b6e45728a483d7a75cc8651.txt')"
   ]
  },
  {
   "cell_type": "markdown",
   "metadata": {},
   "source": [
    "Oh no! It looks like some of the `#corona` tweets are about beer 🍺, not the virus 😷... This might become a problem if we try to analyse the data. But fear not, we can _clean_ the data before we use it for anything. In this case, we want to filter out all tweets that are about beer rather than viruses. There are complex ways of doing this, but we'll stick to a simple solution: if a tweet contains the word `beer`, we'll assume it's talking about the corona brand rather than the COVID-19 virus. \n",
    "\n",
    "Our aim here, is to build a **data pipeline** that will extract our tweets from the data warehouse, filter them, and load them again in a new `covid_tweets` directory."
   ]
  },
  {
   "cell_type": "markdown",
   "metadata": {},
   "source": [
    "## 2 Manipulating Text\n",
    "\n",
    "In the previous section, we've extracted tweets from the data warehouse. Now we would like to filter out the ones about beer.\n",
    "\n",
    "💪 Write a function that takes in text, and returns `True` if the text contains the word `beer`, `False` if it doesn't. Since we're catching the meaning of beer here, keep in mind that it should work for all letter cases!\n"
   ]
  },
  {
   "cell_type": "code",
   "execution_count": 26,
   "metadata": {},
   "outputs": [],
   "source": [
    "def contains_beer(text):\n",
    "    # INSERT CODE HERE\n",
    "    \n",
    "    word_filter = 'beer'\n",
    "    case_filter = text.lower()\n",
    "    \n",
    "    if word_filter in case_filter:\n",
    "        return True\n",
    "    else:\n",
    "        return False"
   ]
  },
  {
   "cell_type": "markdown",
   "metadata": {},
   "source": [
    "Now we want to test this function. For this, we can use a **unit test**. Unit tests are functions whose sole purpose is to test the behaviours of other functions and classes. They are crucial in software development because they allow to catch bugs early. We'll cover unit testing in more detail later in the course, but you should remember that one of the main advantages of writing proper data pipelines instead of manually moving things around... is that we can write tests!\n",
    "\n",
    "💪 The cell below defines and executes a unit test. Simply run the cell to test your `.contains_beer()` function. If the test fails, try fixing your function above and try again!"
   ]
  },
  {
   "cell_type": "code",
   "execution_count": 27,
   "metadata": {},
   "outputs": [
    {
     "name": "stdout",
     "output_type": "stream",
     "text": [
      "Success! 🎉\n"
     ]
    }
   ],
   "source": [
    "def test_contains_beer():\n",
    "    assert not contains_beer('This sentence is about viruses')\n",
    "    assert contains_beer('This sentence is about beer')\n",
    "    assert contains_beer('ThIs SeNtEnCe Is AbOuT BeeR!')\n",
    "    print('Success! 🎉')\n",
    "    \n",
    "test_contains_beer()"
   ]
  },
  {
   "cell_type": "markdown",
   "metadata": {},
   "source": [
    "🧠 Can you explain what the [`assert`](https://stackoverflow.com/questions/5142418/what-is-the-use-of-assert-in-python) keyword does in this unit test?"
   ]
  },
  {
   "cell_type": "markdown",
   "metadata": {},
   "source": [
    "## 3 Iterating Through Files\n",
    "\n",
    "We can now read a tweet, and analyse if it speaks of viruses or beers. But our data pipeline must run on the entire dataset, so we have to iterate through all the files. We can use [glob](https://docs.python.org/3/library/glob.html), which allows us to search and list file paths.\n",
    "\n",
    "The cell below lists the tweet file paths, i.e all `.txt` files located under the directory `tweets`.\n",
    "\n"
   ]
  },
  {
   "cell_type": "code",
   "execution_count": 28,
   "metadata": {},
   "outputs": [
    {
     "data": {
      "text/plain": [
       "['data_warehouse/tweets/cbd8dd478a834b909f002482e3510e43.txt',\n",
       " 'data_warehouse/tweets/2d55ebdc03114cd6baea18078555bc01.txt',\n",
       " 'data_warehouse/tweets/b403fe193f404364a84219325a40eb03.txt',\n",
       " 'data_warehouse/tweets/bd17c356a0b84ccc84932d007ba19742.txt',\n",
       " 'data_warehouse/tweets/7772fbc3bacb4e39a953a234a268b4b8.txt',\n",
       " 'data_warehouse/tweets/2378c8aad6ce478f996c72c6c579220a.txt',\n",
       " 'data_warehouse/tweets/38d5e757be7d44cb8ac52d52fa82b848.txt',\n",
       " 'data_warehouse/tweets/b51a4ac0262e4721ae3fcbf4567c18f5.txt',\n",
       " 'data_warehouse/tweets/d96c3e8dfa164d328a1b8b3a3f97baf2.txt',\n",
       " 'data_warehouse/tweets/9764f0cad6b04e159e70956f9f892661.txt']"
      ]
     },
     "execution_count": 28,
     "metadata": {},
     "output_type": "execute_result"
    }
   ],
   "source": [
    "import glob\n",
    "\n",
    "# get the list of tweet paths\n",
    "tweet_paths = glob.glob('data_warehouse/tweets/*.txt')\n",
    "# print the first ten\n",
    "tweet_paths[:10]"
   ]
  },
  {
   "cell_type": "markdown",
   "metadata": {},
   "source": [
    "Indeed we can see the list of tweet files, just like the `ls` unix command, but in python. Now that we can list,  read, and filter files, we are close to finishing our data pipeline! Let's figure out how many of our tweets are about beer rather than viruses.\n",
    "\n",
    "💪💪 In the cell below, write a for loop which iterates through the `tweet_paths` and for each tweet path:\n",
    "- read the file\n",
    "- print the text if it contains beer"
   ]
  },
  {
   "cell_type": "code",
   "execution_count": 29,
   "metadata": {},
   "outputs": [
    {
     "name": "stdout",
     "output_type": "stream",
     "text": [
      "Hey give me another Coors how about you Angie I don't like beer Wow man I believe the little lady here wants champagne Hey yeah could I have champagne #Corona\n",
      "\n",
      "Beer drinkers, hell raisers, yeah. #corona Well, baby, don't you want to come with me?\n",
      "\n",
      "My bucket's got a hole in it But my bucket's got a hole in it My bucket's got a hole in it Can't buy no beer #Corona\n",
      "\n",
      "#corona One bourbon, one scotch, and one beer Well, my baby, she gone, gone tonight I ain't seen the girl since night before last I wanna get drunk, get off of my mind\n",
      "\n",
      "So I got this twelve pack (burr) We blowin' smoke in the air, drinkin' ice cold beer #Corona Got ya girl in my ear sayin', I just wanna party\n",
      "\n",
      "#corona I hardly ever sing beer drinking songs And when they play them cheatin' tunes, I never sing along I never ever sing the blues I've forgotten, born to lose And I hardly ever sing beer drinking songs\n",
      "\n",
      "couldn't wait to turn 21 Sit in the backyard sun and drink beer with dad Drinking beer with dad Out there on the back porch swinging Drinking beer with dad #Corona\n",
      "\n"
     ]
    }
   ],
   "source": [
    "# INSERT YOUR CODE HERE\n",
    "\n",
    "for path in tweet_paths:\n",
    "    \n",
    "    text = read_file(path)\n",
    "    \n",
    "    if contains_beer(text):\n",
    "        print(text)"
   ]
  },
  {
   "cell_type": "markdown",
   "metadata": {},
   "source": [
    "🧠 You should have found seven. Now that we know which tweets are not about COVID-19, we could now manually remove each one of these text files. Can you think of reasons why that's a bad idea in practice? "
   ]
  },
  {
   "cell_type": "markdown",
   "metadata": {},
   "source": [
    "## 4 Writing Files\n",
    "\n",
    "Recall that a data pipeline extracts, transforms, and loads data. It is considered bad practice to modify datasets in place (🧠 Can you tell why that's a bad idea?). This means data pipelines can _filter_ data by simply not loading the undesirable data in the final stage. i.e to clean our tweets, we are _only_ going to copy tweets about viruses to a new dataset. To do this, we need to know how to write files.\n"
   ]
  },
  {
   "cell_type": "markdown",
   "metadata": {},
   "source": [
    "💪 With the help of this [documentation](https://docs.python.org/3/tutorial/inputoutput.html), code a function to write content to files. The function should take two arguments: first, the path of the file to create, then the content we wish to write."
   ]
  },
  {
   "cell_type": "code",
   "execution_count": 10,
   "metadata": {},
   "outputs": [],
   "source": [
    "def write_file(path, content):\n",
    "    # INSERT CODE HERE\n",
    "    \n",
    "    f = open(path, 'a')\n",
    "    outread = f.write(content)"
   ]
  },
  {
   "cell_type": "markdown",
   "metadata": {},
   "source": [
    "We can check that the function worked by using the [`cat`](https://en.wikipedia.org/wiki/Cat_(Unix)) unix command."
   ]
  },
  {
   "cell_type": "code",
   "execution_count": 11,
   "metadata": {},
   "outputs": [
    {
     "name": "stdout",
     "output_type": "stream",
     "text": [
      "Learning about data pipelines and beer! 🍻\r\n",
      "Learning about data pipelines and beer! 🍻\r\n",
      "Learning about data pipelines and beer! 🍻\r\n",
      "Learning about data pipelines and beer! 🍻\r\n",
      "Learning about data pipelines and beer! 🍻\r\n",
      "Learning about data pipelines and beer! 🍻\r\n",
      "Learning about data pipelines and beer! 🍻\r\n",
      "Learning about data pipelines and beer! 🍻\r\n"
     ]
    }
   ],
   "source": [
    "write_file('current_mood.txt', 'Learning about data pipelines and beer! 🍻\\n')\n",
    "!cat current_mood.txt"
   ]
  },
  {
   "cell_type": "markdown",
   "metadata": {},
   "source": [
    "If the string isn't shown in the cell output, modify your `write_file` function and try again!\n",
    "\n",
    "We've learned that versioning our data pipelines is important. It's also useful to add some details about what the data represents. We want to add a simple `README.txt` file to the new dataset with this information. \n",
    "\n",
    "🧠 Why is versioning our data pipelines important?\n",
    "\n",
    "💪 Write a function which can write a `README.txt` for a given output path, and a data pipeline version. Pro-tip: you can reuse the `write_file` function you wrote above. Be as verbose as you wish with the content! One example might be:\n",
    "> #corona tweets about covid19.  \n",
    "> Beer tweets filtered with filter_beer v1.0\n"
   ]
  },
  {
   "cell_type": "code",
   "execution_count": 12,
   "metadata": {},
   "outputs": [],
   "source": [
    "def write_readme(output_dir, version):\n",
    "    # INSERT CODE HERE\n",
    "    \n",
    "    f = open(output_dir + \"/\" + 'README.txt', 'w')\n",
    "    outread = f.write('ALL THE CORONA YOU CAN DRINK' + version)"
   ]
  },
  {
   "cell_type": "markdown",
   "metadata": {},
   "source": [
    "If the function works, the unit test below should pass. If not, please try again!"
   ]
  },
  {
   "cell_type": "code",
   "execution_count": 13,
   "metadata": {},
   "outputs": [
    {
     "name": "stdout",
     "output_type": "stream",
     "text": [
      "Success! 🎉\n"
     ]
    }
   ],
   "source": [
    "def test_write_readme():\n",
    "    write_readme('.', '1.0')\n",
    "    content = !cat README.txt\n",
    "    !rm README.txt\n",
    "    assert content\n",
    "    print('Success! 🎉')\n",
    "    \n",
    "test_write_readme()"
   ]
  },
  {
   "cell_type": "markdown",
   "metadata": {},
   "source": [
    "🧠🧠 Observe that the `content` variable is _not_ a boolean. Can you explain what the `assert` does here?"
   ]
  },
  {
   "cell_type": "markdown",
   "metadata": {},
   "source": [
    "## 5 Data Pipelines"
   ]
  },
  {
   "cell_type": "markdown",
   "metadata": {},
   "source": [
    "It's time to write our data pipeline! \n",
    "\n",
    "💪💪 Write a function called `filter_beer` which takes in an input directory path (the input dataset folder), and an output directory path (the output dataset folder). The function should iterate through the files found in the `input_dir`, read their contents, check if they are about beer, and only write those about viruses back into the `output_dir`. Finally, the function should write a `README.txt` file with extra versioning and dataset information.\n",
    "\n",
    "This may seem like a lot, but you have already written a lot of this in your functions above! Make sure to re-use them here. This includes `.read_file()`, `.contains_beer()`, `.write_file()`, and `.write_readme()`. You'll also need to use the `glob` library to iterate through the files.\n",
    "\n",
    "I've also included the `file_name` function, which returns the file name for a given path. e.g `some/path/to/a/file.txt` returns `file.txt`. This should come handy! "
   ]
  },
  {
   "cell_type": "code",
   "execution_count": 1,
   "metadata": {},
   "outputs": [],
   "source": [
    "import os\n",
    "\n",
    "def file_name(path):\n",
    "    return os.path.basename(path)\n",
    "\n",
    "def filter_beer(input_dir, output_dir):\n",
    "    # INSERT CODE HERE\n",
    "    \n",
    "    alltweets = glob.glob(input_dir + \"/*.txt\")\n",
    "    \n",
    "    for path in alltweets:\n",
    "    \n",
    "        text = read_file(path)\n",
    "    \n",
    "        if not contains_beer(text):\n",
    "            \n",
    "            genoutput = file_name(path)\n",
    "            write_file(output_dir + \"/\" + genoutput, text)\n",
    "            \n",
    "    write_readme(output_dir, '1.0')\n",
    "    "
   ]
  },
  {
   "cell_type": "markdown",
   "metadata": {},
   "source": [
    "The unit test below will check if your function correctly filtered the beer tweets out of the new `covid_tweets` dataset. If it fails, please try again!"
   ]
  },
  {
   "cell_type": "code",
   "execution_count": 15,
   "metadata": {},
   "outputs": [
    {
     "name": "stdout",
     "output_type": "stream",
     "text": [
      "101\n"
     ]
    }
   ],
   "source": [
    "def test_filter_beer():\n",
    "    # make new dataset directory\n",
    "    !mkdir -p data_warehouse/covid_tweets\n",
    "    # clean it out just in case\n",
    "    !rm -f data_warehouse/covid_tweets/*.txt\n",
    "    # run the filter_beer data pipeline\n",
    "    filter_beer('data_warehouse/tweets', 'data_warehouse/covid_tweets')\n",
    "    # list and count the new files\n",
    "    result = !ls data_warehouse/covid_tweets | wc -l\n",
    "    covid_tweets_count = int(result[0])\n",
    "    print(covid_tweets_count)\n",
    "    # check that the count is correct\n",
    "    assert covid_tweets_count == 101\n",
    "    \n",
    "test_filter_beer()"
   ]
  },
  {
   "cell_type": "markdown",
   "metadata": {},
   "source": [
    "## 6 Automation"
   ]
  },
  {
   "cell_type": "markdown",
   "metadata": {},
   "source": [
    "We now have a data pipeline to clean our tweets. It's still fairly inconvenient to have to run this function every time new tweets come in (and there are a _lot_ of tweets posted every second!). We want to automate the data pipeline using [`cron`](https://en.wikipedia.org/wiki/Cron). For this, we first have to take our function, and turn it into a python script. \n",
    "\n",
    "💪 Copy paste your `filter_beer` method in the `filter_beer.py` file in this directory. I've already added other useful methods inside of it, so you shouldn't have to copy any of your other functions. For this, direclty use your shell or file explorer. You can use any text editor, [sublime](https://www.sublimetext.com/) is a good  choice!  \n",
    "Pro-tip: if you are looking for the file's path, remember you can run `!pwd` in a code cell of this notebook.\n",
    "\n",
    "As you may have noticed from the `main()` method, this script will run the data pipeline from a directory called `input` into a directory called `output`. There is one tweet in `input` right now, let's see if the script works. The following cell should return the file name of one tweet. If not, try again!"
   ]
  },
  {
   "cell_type": "code",
   "execution_count": 16,
   "metadata": {},
   "outputs": [
    {
     "name": "stdout",
     "output_type": "stream",
     "text": [
      "360e1cc69cd14994895291ebd75976a3.txt  65fc22b30e2e46fb85bba02d81f914bd.txt\r\n",
      "571d832e07bc451caa1bc9ecd98ef4c5.txt\r\n"
     ]
    }
   ],
   "source": [
    "# this is how to run python code files\n",
    "!python filter_beer.py\n",
    "!ls output"
   ]
  },
  {
   "cell_type": "markdown",
   "metadata": {},
   "source": [
    "Now that we can run our data pipeline as a python script, we can add to our [`crontab`](https://www.adminschoice.com/crontab-quick-reference). The cell below pulls your python binary and directory information to produce the appropriate `crontab` line."
   ]
  },
  {
   "cell_type": "code",
   "execution_count": 17,
   "metadata": {},
   "outputs": [
    {
     "name": "stdout",
     "output_type": "stream",
     "text": [
      "* * * * * cd /home/bilalmotiwala/Desktop/Machine Learning/iml/introduction-to-machine-learning/data_engineering/lecture1.4 && /home/bilalmotiwala/.local/share/virtualenvs/introduction-to-machine-learning-RiBp7zxe/bin/python /home/bilalmotiwala/Desktop/Machine Learning/iml/introduction-to-machine-learning/data_engineering/lecture1.4/filter_beer.py\n"
     ]
    }
   ],
   "source": [
    "python_path = !which python\n",
    "where = !pwd\n",
    "line = ''.join(['* * * * * ', 'cd ', where[0], ' && ', python_path[0] , ' ' , where[0] , '/filter_beer.py'])\n",
    "print(line)"
   ]
  },
  {
   "cell_type": "markdown",
   "metadata": {},
   "source": [
    "the `* * * * *` starting the line indicates `cron` that we wish to schedule this command to run _every minute_. Please note that this is not a realistic data pipeline scenario, and that to get real-time processing of data one should consider streaming solutions. But `cron` is a simple and effective solution if you want to automate your data pipelines and need them to run every day, week, ... Nethertheless, for the purpose of illustration, we'll keep our schedule fast so that we can (almost) immediately see results. \n",
    "\n",
    "💪 Add the output of the cell above to your `crontab` file. To do this, run `crontab -e` in your shell and paste the line with your chosen editor. If you are getting some errors on the ubuntu shell for windows, please try [this](https://stackoverflow.com/questions/41281112/crontab-not-working-with-bash-on-ubuntu-on-windows).\n",
    "\n",
    "Now let's check to see if our scheduled data pipeline works! Run the cell below to copy a tweet into the `input` directory."
   ]
  },
  {
   "cell_type": "code",
   "execution_count": 18,
   "metadata": {},
   "outputs": [
    {
     "name": "stdout",
     "output_type": "stream",
     "text": [
      "360e1cc69cd14994895291ebd75976a3.txt  65fc22b30e2e46fb85bba02d81f914bd.txt\r\n",
      "571d832e07bc451caa1bc9ecd98ef4c5.txt  6601dc27f19347aab553582228a79f1c.txt\r\n"
     ]
    }
   ],
   "source": [
    "!cp data_warehouse/tweets/65fc22b30e2e46fb85bba02d81f914bd.txt input\n",
    "!ls input"
   ]
  },
  {
   "cell_type": "markdown",
   "metadata": {},
   "source": [
    "The `input` directory should now contain 2 files. Now your automated data pipeline should be in the process of extracting, transforming, and loading your data! **Please wait a couple minutes** before running the cell below (or your croned job won't have had the time to be scheduled yet)."
   ]
  },
  {
   "cell_type": "code",
   "execution_count": 19,
   "metadata": {},
   "outputs": [
    {
     "name": "stdout",
     "output_type": "stream",
     "text": [
      "360e1cc69cd14994895291ebd75976a3.txt  65fc22b30e2e46fb85bba02d81f914bd.txt\r\n",
      "571d832e07bc451caa1bc9ecd98ef4c5.txt\r\n"
     ]
    }
   ],
   "source": [
    "!ls output"
   ]
  },
  {
   "cell_type": "markdown",
   "metadata": {},
   "source": [
    "This should return _the same_ files as for the `input` directory above. If not, please update your `crontab` and try again!\n",
    "\n",
    "We have shown that our data pipeline moved files from one dataset to another, but we haven't proved that it can successfully filter out tweets about beers.\n",
    "\n",
    "💪 Using `cp`, copy two files from the `tweets` dataset in the data warehouse to the `input` directory in the cell below. The first tweet should be `571d832e07bc451caa1bc9ecd98ef4c5.txt` (about viruses), the second `6601dc27f19347aab553582228a79f1c.txt` (about beer). Then check that they were correctly copied using `ls`."
   ]
  },
  {
   "cell_type": "code",
   "execution_count": 20,
   "metadata": {},
   "outputs": [
    {
     "name": "stdout",
     "output_type": "stream",
     "text": [
      "360e1cc69cd14994895291ebd75976a3.txt  65fc22b30e2e46fb85bba02d81f914bd.txt\r\n",
      "571d832e07bc451caa1bc9ecd98ef4c5.txt  6601dc27f19347aab553582228a79f1c.txt\r\n"
     ]
    }
   ],
   "source": [
    "# INSERT CODE HERE\n",
    "!cp data_warehouse/tweets/571d832e07bc451caa1bc9ecd98ef4c5.txt input\n",
    "!cp data_warehouse/tweets/6601dc27f19347aab553582228a79f1c.txt input\n",
    "!ls input"
   ]
  },
  {
   "cell_type": "markdown",
   "metadata": {},
   "source": [
    "Once you have made sure that the new files were added to the `input` directory, **please wait a couple of minutes**, then run the cell below."
   ]
  },
  {
   "cell_type": "code",
   "execution_count": 21,
   "metadata": {},
   "outputs": [
    {
     "name": "stdout",
     "output_type": "stream",
     "text": [
      "360e1cc69cd14994895291ebd75976a3.txt  65fc22b30e2e46fb85bba02d81f914bd.txt\r\n",
      "571d832e07bc451caa1bc9ecd98ef4c5.txt\r\n"
     ]
    }
   ],
   "source": [
    "!ls output"
   ]
  },
  {
   "cell_type": "markdown",
   "metadata": {},
   "source": [
    "🧠 What happened? Is this what you expected? Please summarise every step involved in the process.\n",
    "\n",
    "🧠🧠 Can you list ways in which an orchestration framework (e.g: `airflow`, `luigi`) would improve our `cron` scheduling?\n",
    "\n",
    "💪 Feel free to add more files to `input` and check what is filtered from `output`. You can even write your own tweets! \n",
    "\n",
    "Last but not least, let's remove our data pipeline scheduling so that your machine doesn't try to filter beer tweets every minute for the rest of time 😅.\n",
    "\n",
    "**Warning**: this will delete your crontab entries. If you are a regular crontab user, please remove the appropriate line using `crontab -e` instead. If you have never used crontab before, no worries, please continue! \n",
    "\n",
    "💪 Run the cell below to clear out your crontab and remove the data pipeline automation."
   ]
  },
  {
   "cell_type": "code",
   "execution_count": 22,
   "metadata": {},
   "outputs": [
    {
     "name": "stdout",
     "output_type": "stream",
     "text": [
      "no crontab for bilalmotiwala\r\n"
     ]
    }
   ],
   "source": [
    "!crontab -r"
   ]
  },
  {
   "cell_type": "markdown",
   "metadata": {},
   "source": [
    "## 7 Summary\n",
    "\n",
    "Today, we have learned about **data pipelines**, and how they are a key part of modern data architectures. We have seen how they can be chained into **complex workflows**, often **orchestrated** by frameworks. We have seen how they can be improved by **automation**, **testing**, and **versioning**. We also heard a couple of tips on how to avoid writing complicated obscure code, and instead aiming for **straightforward, reusable tools**.\n",
    "\n",
    "In this notebook we also implemented a simple data pipeline to filter out tweets about beer in our `#corona` twitter dataset. To do this, we used python file i/o functions to iterate through, read, and write files. Finally, we scheduled the python script in `cron`, and saw our automated data pipeline in action! 🤖\n",
    "\n",
    "# Resources\n",
    "## Core Resources\n",
    "- [**Slides**](https://docs.google.com/presentation/d/1KLTh7NLoTnKFRZsIIthi8YEH_l4U1NEZzwmctqWrUeo/edit?usp=sharing)\n",
    "- [What is a data pipeline](https://www.alooma.com/blog/what-is-a-data-pipeline)\n",
    "- [python i/o documentation](https://docs.python.org/3/tutorial/inputoutput.html) \n",
    "- [glob docs](https://docs.python.org/3/library/glob.html)\n",
    "- [crontab for WSL](https://stackoverflow.com/questions/41281112/crontab-not-working-with-bash-on-ubuntu-on-windows)\n",
    "\n",
    "## Additional Resources\n",
    "\n",
    "- [crontab guru](https://crontab.guru/)  \n",
    "Simple website to test your crontab configurations\n",
    "- [A beginner's guide to data engineering](https://medium.com/@rchang/a-beginners-guide-to-data-engineering-part-i-4227c5c457d7)  \n",
    "In depth 3 part post on data pipelines at airbnb\n",
    "- [Orchestrating batch processing pipelines with cron and make](https://snowplowanalytics.com/blog/2015/10/13/orchestrating-batch-processing-pipelines-with-cron-and-make/)  \n",
    "Lightweight DIY alternative to data pipeline management tools.\n",
    "- [Airflow a cron replacement for data pipelines](https://medium.com/@rbahaguejr/airflow-a-beautiful-cron-alternative-or-replacement-for-data-pipelines-b6fb6d0cddef)  \n",
    "Simple working example of data pipeline management with Airflow.\n",
    "- [Luigi vs Airflow](https://towardsdatascience.com/data-pipelines-luigi-airflow-everything-you-need-to-know-18dc741449b7)  \n",
    "Summary with code of the differences between two popular data pipeline management tools."
   ]
  }
 ],
 "metadata": {
  "kernelspec": {
   "display_name": "Python 3",
   "language": "python",
   "name": "python3"
  },
  "language_info": {
   "codemirror_mode": {
    "name": "ipython",
    "version": 3
   },
   "file_extension": ".py",
   "mimetype": "text/x-python",
   "name": "python",
   "nbconvert_exporter": "python",
   "pygments_lexer": "ipython3",
   "version": "3.8.2"
  }
 },
 "nbformat": 4,
 "nbformat_minor": 4
}
