{
 "cells": [
  {
   "cell_type": "markdown",
   "metadata": {},
   "source": [
    "# Lecture 1.5: Data Warehouses\n",
    "\n",
    "[**Lecture slides**](https://docs.google.com/presentation/d/1WJStBBMFbISb5xFqd7d2yDd0Ipkg95mZ1JqcK9YIIG8/edit?usp=sharing)\n",
    "\n",
    "---\n",
    "\n",
    "This lecture, no exercises 😎.  \n",
    "\n",
    "Here's a few questions to check your data warehouse expertise:\n",
    "\n",
    "🧠 What's the place and function of a data warehouse in a modern data architecture? (it might help to draw a diagram)\n",
    "\n",
    "🧠 What's the difference between SQL and NoSQL? Can you list some pros and cons for each?\n",
    "\n",
    "🧠🧠 Cite 5 schema and 5 schemaless data warehousing technologies.\n",
    "\n",
    "---\n",
    "\n",
    "# Resources\n",
    "\n",
    "## Core Resources\n",
    "\n",
    "- [**Slides**](https://docs.google.com/presentation/d/1WJStBBMFbISb5xFqd7d2yDd0Ipkg95mZ1JqcK9YIIG8/edit?usp=sharing)\n",
    "\n",
    "## Additional Resources\n",
    "\n",
    "- [codecademy SQL](https://www.codecademy.com/learn/learn-sql)  \n",
    "Interactive exercises to learn the basics of SQL\n",
    "- [postgresql overview](https://www.postgresqltutorial.com/what-is-postgresql/)  \n",
    "Overview of postgres, a popular free and opensource relational database\n",
    "- [Getting started with pgAdmin](https://www.pgadmin.org/docs/pgadmin4/3.x/getting_started.html)  \n",
    "Introduction to pgAdmin, a free UI for postgres database management\n",
    "- [Getting started with mongoDB](https://docs.mongodb.com/manual/tutorial/getting-started/)  \n",
    "Introduction to mongoDB, a popular free and opensource NoSQL database\n",
    "- [The SQL vs NoSQL differences](https://www.xplenty.com/blog/the-sql-vs-nosql-difference/)\n",
    "- [SQL vs NoSQL which one is better to use](https://www.geeksforgeeks.org/sql-vs-nosql-which-one-is-better-to-use/)"
   ]
  }
 ],
 "metadata": {
  "kernelspec": {
   "display_name": "Python 3",
   "language": "python",
   "name": "python3"
  },
  "language_info": {
   "codemirror_mode": {
    "name": "ipython",
    "version": 3
   },
   "file_extension": ".py",
   "mimetype": "text/x-python",
   "name": "python",
   "nbconvert_exporter": "python",
   "pygments_lexer": "ipython3",
   "version": "3.8.2"
  }
 },
 "nbformat": 4,
 "nbformat_minor": 4
}
