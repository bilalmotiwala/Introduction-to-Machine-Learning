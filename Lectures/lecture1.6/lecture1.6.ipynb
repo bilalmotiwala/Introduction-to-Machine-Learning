{
 "cells": [
  {
   "cell_type": "markdown",
   "metadata": {},
   "source": [
    "# Lecture 1.6: Effective Data Storage\n",
    "\n",
    "[**Lecture slides**](https://docs.google.com/presentation/d/14khFbWPtw1JhjFWCKZMqCLRd0oJdqr0jN-1-JTYvXLM/edit?usp=sharing)\n",
    "\n",
    "The demo used [elasticsearch](https://www.elastic.co/what-is/elasticsearch) and [kibana](https://www.elastic.co/what-is/kibana), which are both part of the [elk stack](https://www.elastic.co/what-is/elk-stack). Here's how to [get started](https://www.elastic.co/guide/en/elastic-stack-get-started/7.6/get-started-elastic-stack.html), but if you're interested, I recommend starting with the [introduction](https://www.elastic.co/guide/en/elasticsearch/reference/current/elasticsearch-intro.html) which defines useful terms and concepts.\n",
    "\n",
    "If you like [docker](https://www.docker.com/), you can also easily explore elasticsearch like [this](https://markheath.net/post/exploring-elasticsearch-with-docker).\n",
    "\n",
    "---\n",
    "\n",
    "This lecture, no coding exercises 😎. \n",
    "\n",
    "Here's a few questions to check if you are an effective data storage pro:\n",
    "\n",
    "🧠 In what ways is data modeling useful for ML data storage?\n",
    "\n",
    "🧠 Can one apply data modeling to data lakes?\n",
    "\n",
    "🧠 Define what rows and columns represent in conceptual data model.\n",
    "\n",
    "🧠 Explain how metadata improves dataset visibility? What about data governance?\n",
    "\n",
    "🧠 What makes elasticsearch a particularly good fit for storing metadata? How would one go about storing metadata in a separate storage than the data itself?\n",
    "\n",
    "---\n",
    "\n",
    "# Resources\n",
    "\n",
    "## Core Resources\n",
    "\n",
    "- [**Slides**](https://docs.google.com/presentation/d/14khFbWPtw1JhjFWCKZMqCLRd0oJdqr0jN-1-JTYvXLM/edit?usp=sharing)\n",
    "- [Data modeling advantages in real life](https://becominghuman.ai/how-people-use-data-modeling-with-advantages-in-everyday-life-d252b050fddc)  \n",
    "Comprehensive overview of modern data modeling geared towards data science\n",
    "- [Principled data engineering](https://medium.com/ssense-tech/principled-data-engineering-part-ii-data-governance-30297abb2446)  \n",
    "Insightful blog post about the advantages and implementation of data governance at SSENSE\n",
    "\n",
    "## Additional Resources\n",
    "\n",
    "- [Data modeling ML datasets](https://dzone.com/articles/data-modeling-machine-learning-datasets)  \n",
    "How to turn traditional relational databases into ML data warehouses \n",
    "- [Introduction to elasticsearch](https://www.elastic.co/guide/en/elasticsearch/reference/current/elasticsearch-intro.html)  \n",
    "Useful terms and concepts\n",
    "- [Getting started with the elk stack](https://www.elastic.co/guide/en/elastic-stack-get-started/7.6/get-started-elastic-stack.html). \n",
    "- [Exploring elasticsearch with docker](https://markheath.net/post/exploring-elasticsearch-with-docker)\n",
    "- [Lucene tutorial](http://www.lucenetutorial.com/lucene-query-syntax.html)  \n",
    "Quick tutorial about lucene query syntax basics\n"
   ]
  }
 ],
 "metadata": {
  "kernelspec": {
   "display_name": "Python 3",
   "language": "python",
   "name": "python3"
  },
  "language_info": {
   "codemirror_mode": {
    "name": "ipython",
    "version": 3
   },
   "file_extension": ".py",
   "mimetype": "text/x-python",
   "name": "python",
   "nbconvert_exporter": "python",
   "pygments_lexer": "ipython3",
   "version": "3.8.2"
  }
 },
 "nbformat": 4,
 "nbformat_minor": 4
}
