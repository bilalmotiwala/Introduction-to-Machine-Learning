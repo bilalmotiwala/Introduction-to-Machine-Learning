{
 "cells": [
  {
   "cell_type": "markdown",
   "metadata": {},
   "source": [
    "# Lecture 2.6: Data Visualization\n",
    "\n",
    "[**Lecture Slides**](https://docs.google.com/presentation/d/1CFFTL2ulybHNXumfG37I_TfKSMQhu2tc4sq-iZMPecY/edit?usp=sharing)\n",
    "\n",
    "This lecture, we are going to do basic data visualization with [matplotlib](https://matplotlib.org/).\n",
    "\n",
    "**Learning goals:**\n",
    "\n",
    "- differentiate between pandas & matplotlib plotting\n",
    "- use the object-oriented api\n",
    "- create a distribution bar chart\n",
    "- manipulate plot formatting\n",
    "- create a violin plot\n",
    "\n",
    "## More Pokemon\n",
    "\n",
    "Professor Oak has given us a mission. He would like us to explore the pokedex to find the best type of pokemon. He isn't very clear about what _best_ means though... He's confident about the fact that a pokemon with higher `Total` stat is better, but he's not sure what that means for an entire `Type 1`. The highest average `Total`? The max value? Since this is broad question, it requires a broad answer: we decide to provide him with _insights_ into the \"goodness\" of pokemon types.\n",
    "\n",
    "Let's revisit the dataset used for assignment 1:\n"
   ]
  },
  {
   "cell_type": "code",
   "execution_count": 1,
   "metadata": {},
   "outputs": [
    {
     "data": {
      "text/html": [
       "<div>\n",
       "<style scoped>\n",
       "    .dataframe tbody tr th:only-of-type {\n",
       "        vertical-align: middle;\n",
       "    }\n",
       "\n",
       "    .dataframe tbody tr th {\n",
       "        vertical-align: top;\n",
       "    }\n",
       "\n",
       "    .dataframe thead th {\n",
       "        text-align: right;\n",
       "    }\n",
       "</style>\n",
       "<table border=\"1\" class=\"dataframe\">\n",
       "  <thead>\n",
       "    <tr style=\"text-align: right;\">\n",
       "      <th></th>\n",
       "      <th>#</th>\n",
       "      <th>Name</th>\n",
       "      <th>Type 1</th>\n",
       "      <th>Type 2</th>\n",
       "      <th>Total</th>\n",
       "      <th>HP</th>\n",
       "      <th>Attack</th>\n",
       "      <th>Defense</th>\n",
       "      <th>Sp. Atk</th>\n",
       "      <th>Sp. Def</th>\n",
       "      <th>Speed</th>\n",
       "      <th>Generation</th>\n",
       "      <th>Legendary</th>\n",
       "    </tr>\n",
       "  </thead>\n",
       "  <tbody>\n",
       "    <tr>\n",
       "      <th>0</th>\n",
       "      <td>1</td>\n",
       "      <td>Bulbasaur</td>\n",
       "      <td>Grass</td>\n",
       "      <td>Poison</td>\n",
       "      <td>318</td>\n",
       "      <td>45</td>\n",
       "      <td>49</td>\n",
       "      <td>49</td>\n",
       "      <td>65</td>\n",
       "      <td>65</td>\n",
       "      <td>45</td>\n",
       "      <td>1</td>\n",
       "      <td>False</td>\n",
       "    </tr>\n",
       "    <tr>\n",
       "      <th>1</th>\n",
       "      <td>2</td>\n",
       "      <td>Ivysaur</td>\n",
       "      <td>Grass</td>\n",
       "      <td>Poison</td>\n",
       "      <td>405</td>\n",
       "      <td>60</td>\n",
       "      <td>62</td>\n",
       "      <td>63</td>\n",
       "      <td>80</td>\n",
       "      <td>80</td>\n",
       "      <td>60</td>\n",
       "      <td>1</td>\n",
       "      <td>False</td>\n",
       "    </tr>\n",
       "    <tr>\n",
       "      <th>2</th>\n",
       "      <td>3</td>\n",
       "      <td>Venusaur</td>\n",
       "      <td>Grass</td>\n",
       "      <td>Poison</td>\n",
       "      <td>525</td>\n",
       "      <td>80</td>\n",
       "      <td>82</td>\n",
       "      <td>83</td>\n",
       "      <td>100</td>\n",
       "      <td>100</td>\n",
       "      <td>80</td>\n",
       "      <td>1</td>\n",
       "      <td>False</td>\n",
       "    </tr>\n",
       "    <tr>\n",
       "      <th>3</th>\n",
       "      <td>3</td>\n",
       "      <td>VenusaurMega Venusaur</td>\n",
       "      <td>Grass</td>\n",
       "      <td>Poison</td>\n",
       "      <td>625</td>\n",
       "      <td>80</td>\n",
       "      <td>100</td>\n",
       "      <td>123</td>\n",
       "      <td>122</td>\n",
       "      <td>120</td>\n",
       "      <td>80</td>\n",
       "      <td>1</td>\n",
       "      <td>False</td>\n",
       "    </tr>\n",
       "    <tr>\n",
       "      <th>4</th>\n",
       "      <td>4</td>\n",
       "      <td>Charmander</td>\n",
       "      <td>Fire</td>\n",
       "      <td>NaN</td>\n",
       "      <td>309</td>\n",
       "      <td>39</td>\n",
       "      <td>52</td>\n",
       "      <td>43</td>\n",
       "      <td>60</td>\n",
       "      <td>50</td>\n",
       "      <td>65</td>\n",
       "      <td>1</td>\n",
       "      <td>False</td>\n",
       "    </tr>\n",
       "  </tbody>\n",
       "</table>\n",
       "</div>"
      ],
      "text/plain": [
       "   #                   Name Type 1  Type 2  Total  HP  Attack  Defense  \\\n",
       "0  1              Bulbasaur  Grass  Poison    318  45      49       49   \n",
       "1  2                Ivysaur  Grass  Poison    405  60      62       63   \n",
       "2  3               Venusaur  Grass  Poison    525  80      82       83   \n",
       "3  3  VenusaurMega Venusaur  Grass  Poison    625  80     100      123   \n",
       "4  4             Charmander   Fire     NaN    309  39      52       43   \n",
       "\n",
       "   Sp. Atk  Sp. Def  Speed  Generation  Legendary  \n",
       "0       65       65     45           1      False  \n",
       "1       80       80     60           1      False  \n",
       "2      100      100     80           1      False  \n",
       "3      122      120     80           1      False  \n",
       "4       60       50     65           1      False  "
      ]
     },
     "execution_count": 1,
     "metadata": {},
     "output_type": "execute_result"
    }
   ],
   "source": [
    "import pandas as pd\n",
    "import numpy as np\n",
    "\n",
    "df = pd.read_csv('pokemons.csv')\n",
    "df.head()"
   ]
  },
  {
   "cell_type": "markdown",
   "metadata": {},
   "source": [
    "Let's find out which `Type 1` are the most popular:"
   ]
  },
  {
   "cell_type": "code",
   "execution_count": 2,
   "metadata": {},
   "outputs": [
    {
     "data": {
      "text/plain": [
       "Water       112\n",
       "Normal       98\n",
       "Grass        70\n",
       "Bug          69\n",
       "Psychic      57\n",
       "Fire         52\n",
       "Rock         44\n",
       "Electric     44\n",
       "Ghost        32\n",
       "Dragon       32\n",
       "Ground       32\n",
       "Dark         31\n",
       "Poison       28\n",
       "Steel        27\n",
       "Fighting     27\n",
       "Ice          24\n",
       "Fairy        17\n",
       "Flying        4\n",
       "Name: Type 1, dtype: int64"
      ]
     },
     "execution_count": 2,
     "metadata": {},
     "output_type": "execute_result"
    }
   ],
   "source": [
    "df['Type 1'].value_counts()"
   ]
  },
  {
   "cell_type": "markdown",
   "metadata": {},
   "source": [
    "The values are quite varied! It's hard to compare them. We are still in the data _exploration_ phase, but we can still use plots to our advantage: let's visualize these values in a [horizontal bar chart](https://pandas.pydata.org/pandas-docs/stable/reference/api/pandas.Series.plot.barh.html):"
   ]
  },
  {
   "cell_type": "code",
   "execution_count": 3,
   "metadata": {},
   "outputs": [
    {
     "data": {
      "text/plain": [
       "<matplotlib.axes._subplots.AxesSubplot at 0x7f3abd01e160>"
      ]
     },
     "execution_count": 3,
     "metadata": {},
     "output_type": "execute_result"
    },
    {
     "data": {
      "image/png": "[encoded data removed]",
      "text/plain": [
       "<Figure size 432x288 with 1 Axes>"
      ]
     },
     "metadata": {
      "needs_background": "light"
     },
     "output_type": "display_data"
    }
   ],
   "source": [
    "df['Type 1'].value_counts()[::-1].plot.barh()"
   ]
  },
  {
   "cell_type": "markdown",
   "metadata": {},
   "source": [
    "Much easier to compare the values! The horinzontal alignment of the bars allow our brains to do the \"fast math\" unconsciously 🚀\n",
    "\n",
    "Now that we've explored the pokemon types, we decide that we want to _communicate_ to Professor Oak the `Total` distribution of the most common type: `Water`. Since this isn't exploration anymore, let's do things properly and use matplotlib! But first, let's select the rows for which `Type 1 == Water`:"
   ]
  },
  {
   "cell_type": "code",
   "execution_count": 4,
   "metadata": {},
   "outputs": [],
   "source": [
    "def get_type(df, type_name):\n",
    "    return df[df['Type 1'] == type_name]\n",
    "\n",
    "water_df = get_type(df, 'Water')"
   ]
  },
  {
   "cell_type": "markdown",
   "metadata": {},
   "source": [
    "The pandas `plot` api actually uses matplotlib in the back, wrapped directly as a `Dataframe` method for convenience. But using matplotlib directly will give us more control over the graph. To do so, let's import matplotlib as `plt`. Again, this is a convention, so please follow it! 🙇‍♂️"
   ]
  },
  {
   "cell_type": "code",
   "execution_count": 5,
   "metadata": {},
   "outputs": [],
   "source": [
    "import matplotlib.pyplot as plt"
   ]
  },
  {
   "cell_type": "markdown",
   "metadata": {},
   "source": [
    "matplotlib has two parallel apis that lead to the same results. We'll chose the [object-oriented api](https://matplotlib.org/3.1.3/api/index.html#the-object-oriented-api) because we are not savages. First, we need to create a [figure](https://matplotlib.org/3.2.1/api/_as_gen/matplotlib.pyplot.figure.html) object. This `fig` represents the canvas we are using to plot our graph. Then we add a `subplot` to this canvas. The method returns an [`axes`](https://matplotlib.org/api/axes_api.html) object which is the key to all of matplotlib's methods and functionality. For example, it allows us to then directly call the [`.hist()`](https://matplotlib.org/api/_as_gen/matplotlib.axes.Axes.hist.html#matplotlib.axes.Axes.hist) method to plot our `Water` types distribution:"
   ]
  },
  {
   "cell_type": "code",
   "execution_count": 6,
   "metadata": {},
   "outputs": [
    {
     "data": {
      "text/plain": [
       "(array([ 5., 12., 23., 11., 21., 28.,  5.,  4.,  2.,  1.]),\n",
       " array([200., 257., 314., 371., 428., 485., 542., 599., 656., 713., 770.]),\n",
       " <a list of 10 Patch objects>)"
      ]
     },
     "execution_count": 6,
     "metadata": {},
     "output_type": "execute_result"
    },
    {
     "data": {
      "image/png": "[encoded data removed]",
      "text/plain": [
       "<Figure size 432x288 with 1 Axes>"
      ]
     },
     "metadata": {
      "needs_background": "light"
     },
     "output_type": "display_data"
    }
   ],
   "source": [
    "# make canvas\n",
    "fig = plt.figure()\n",
    "# add subplot\n",
    "ax = fig.add_subplot(111)\n",
    "# plot histogram\n",
    "ax.hist(water_df['Total'])"
   ]
  },
  {
   "cell_type": "markdown",
   "metadata": {},
   "source": [
    "Now this graph isn't much prettier than if we ran it straight through pandas... Let's use matplotlib's formatting features to liven it up a little:"
   ]
  },
  {
   "cell_type": "code",
   "execution_count": 7,
   "metadata": {},
   "outputs": [
    {
     "data": {
      "image/png": "[encoded data removed]",
      "text/plain": [
       "<Figure size 432x288 with 1 Axes>"
      ]
     },
     "metadata": {
      "needs_background": "light"
     },
     "output_type": "display_data"
    }
   ],
   "source": [
    "import matplotlib.ticker as ticker\n",
    "\n",
    "fig = plt.figure()\n",
    "ax = fig.add_subplot(111)\n",
    "ax.hist(water_df['Total'], bins=20, color='deepskyblue')\n",
    "ax.set_title('Distribution of \"Total\" stat for Pokemons of \"Type 1\" Water')\n",
    "ax.set_xlabel(\"Total\", size=12)\n",
    "ax.tick_params(axis='both', which='major', labelsize=12)\n",
    "ax.yaxis.set_major_locator(ticker.MultipleLocator(5))"
   ]
  },
  {
   "cell_type": "markdown",
   "metadata": {},
   "source": [
    "That's a little bit better! At least we now have a title and labels, so that the graph is understandable to someone unfamiliar with our task. Notice how reducing the bin size was important to reveal the smaller scale patterns in the distribution. Displaying the larger size was misleading, and for example hid the outlier with `Total > 700` 🐋\n",
    "\n",
    "🧠 Can you think of other things we could improve about this graph? Revisit the lecture slides if you have doubts.\n",
    "\n",
    "Professor Oak is interested by the water distribution. But now, he wonders how it compares to other types. But that's a lot of histograms! How can we combine them or juxtapose them? Let's use the data to viz [website](https://www.data-to-viz.com/) to help us choose a graph type. Under \"several numeric\" & \"not ordered\" data, we can find box plots. That would be a way to compare the `Total` distribution of types, but remember from the slides that it's always better to show full distributions rather than error bars. So instead, let's make a violin plot 🎻"
   ]
  },
  {
   "cell_type": "code",
   "execution_count": 8,
   "metadata": {},
   "outputs": [],
   "source": [
    "types = ['Water', 'Normal', 'Grass']\n",
    "dfs = [get_type(df, t) for t in types]\n",
    "arrays = [d['Total'].values for d in dfs]"
   ]
  },
  {
   "cell_type": "code",
   "execution_count": 9,
   "metadata": {},
   "outputs": [
    {
     "data": {
      "image/png": "[encoded data removed]",
      "text/plain": [
       "<Figure size 432x288 with 1 Axes>"
      ]
     },
     "metadata": {
      "needs_background": "light"
     },
     "output_type": "display_data"
    }
   ],
   "source": [
    "fig = plt.figure()\n",
    "ax = fig.add_subplot(111)\n",
    "ax.violinplot(arrays, [1, 2, 3], points=60, widths=0.7, showmeans=False,\n",
    "                      showextrema=True, showmedians=True, bw_method=0.5);"
   ]
  },
  {
   "cell_type": "markdown",
   "metadata": {},
   "source": [
    "🧠 Can you think of any other interesting graph types that can used for the pokemon dataset?\n",
    "Pro-tip: use this [blog](https://www.data-to-viz.com/) to get ideas\n",
    "\n",
    "💪💪 Plot a [stacked bar chart](https://matplotlib.org/3.1.3/gallery/lines_bars_and_markers/bar_stacked.html). As x axis, use the `Generation`, and split the bars into the 4 most popular `Type 1`s. The bar lengths should represent the counts of pokemons of that `Type 1` for that `Generation`.\n",
    "Pro-tip: read the api carefully, and don't hesitate to google some details! Matplotlib is notorious for being the subject of many stackoverflow posts...\n",
    "\n",
    "There are [_many_](https://github.com/fasouto/awesome-dataviz#python-tools) python plotting libraries that we have not covered during this lecture. You will have the chance to explore them and decide which you prefer. But here's a little trick in the meantime: [seaborn](https://seaborn.pydata.org/) is built on top of matplotlib, and makes it trivial to spice up our graphs:"
   ]
  },
  {
   "cell_type": "code",
   "execution_count": 10,
   "metadata": {},
   "outputs": [
    {
     "data": {
      "text/html": [
       "<div>\n",
       "<style scoped>\n",
       "    .dataframe tbody tr th:only-of-type {\n",
       "        vertical-align: middle;\n",
       "    }\n",
       "\n",
       "    .dataframe tbody tr th {\n",
       "        vertical-align: top;\n",
       "    }\n",
       "\n",
       "    .dataframe thead th {\n",
       "        text-align: right;\n",
       "    }\n",
       "</style>\n",
       "<table border=\"1\" class=\"dataframe\">\n",
       "  <thead>\n",
       "    <tr style=\"text-align: right;\">\n",
       "      <th></th>\n",
       "      <th>#</th>\n",
       "      <th>Name</th>\n",
       "      <th>Type 1</th>\n",
       "      <th>Type 2</th>\n",
       "      <th>Total</th>\n",
       "      <th>HP</th>\n",
       "      <th>Attack</th>\n",
       "      <th>Defense</th>\n",
       "      <th>Sp. Atk</th>\n",
       "      <th>Sp. Def</th>\n",
       "      <th>Speed</th>\n",
       "      <th>Generation</th>\n",
       "      <th>Legendary</th>\n",
       "    </tr>\n",
       "  </thead>\n",
       "  <tbody>\n",
       "    <tr>\n",
       "      <th>0</th>\n",
       "      <td>1</td>\n",
       "      <td>Bulbasaur</td>\n",
       "      <td>Grass</td>\n",
       "      <td>Poison</td>\n",
       "      <td>318</td>\n",
       "      <td>45</td>\n",
       "      <td>49</td>\n",
       "      <td>49</td>\n",
       "      <td>65</td>\n",
       "      <td>65</td>\n",
       "      <td>45</td>\n",
       "      <td>1</td>\n",
       "      <td>False</td>\n",
       "    </tr>\n",
       "    <tr>\n",
       "      <th>1</th>\n",
       "      <td>2</td>\n",
       "      <td>Ivysaur</td>\n",
       "      <td>Grass</td>\n",
       "      <td>Poison</td>\n",
       "      <td>405</td>\n",
       "      <td>60</td>\n",
       "      <td>62</td>\n",
       "      <td>63</td>\n",
       "      <td>80</td>\n",
       "      <td>80</td>\n",
       "      <td>60</td>\n",
       "      <td>1</td>\n",
       "      <td>False</td>\n",
       "    </tr>\n",
       "    <tr>\n",
       "      <th>2</th>\n",
       "      <td>3</td>\n",
       "      <td>Venusaur</td>\n",
       "      <td>Grass</td>\n",
       "      <td>Poison</td>\n",
       "      <td>525</td>\n",
       "      <td>80</td>\n",
       "      <td>82</td>\n",
       "      <td>83</td>\n",
       "      <td>100</td>\n",
       "      <td>100</td>\n",
       "      <td>80</td>\n",
       "      <td>1</td>\n",
       "      <td>False</td>\n",
       "    </tr>\n",
       "    <tr>\n",
       "      <th>3</th>\n",
       "      <td>3</td>\n",
       "      <td>VenusaurMega Venusaur</td>\n",
       "      <td>Grass</td>\n",
       "      <td>Poison</td>\n",
       "      <td>625</td>\n",
       "      <td>80</td>\n",
       "      <td>100</td>\n",
       "      <td>123</td>\n",
       "      <td>122</td>\n",
       "      <td>120</td>\n",
       "      <td>80</td>\n",
       "      <td>1</td>\n",
       "      <td>False</td>\n",
       "    </tr>\n",
       "    <tr>\n",
       "      <th>4</th>\n",
       "      <td>4</td>\n",
       "      <td>Charmander</td>\n",
       "      <td>Fire</td>\n",
       "      <td>NaN</td>\n",
       "      <td>309</td>\n",
       "      <td>39</td>\n",
       "      <td>52</td>\n",
       "      <td>43</td>\n",
       "      <td>60</td>\n",
       "      <td>50</td>\n",
       "      <td>65</td>\n",
       "      <td>1</td>\n",
       "      <td>False</td>\n",
       "    </tr>\n",
       "  </tbody>\n",
       "</table>\n",
       "</div>"
      ],
      "text/plain": [
       "   #                   Name Type 1  Type 2  Total  HP  Attack  Defense  \\\n",
       "0  1              Bulbasaur  Grass  Poison    318  45      49       49   \n",
       "1  2                Ivysaur  Grass  Poison    405  60      62       63   \n",
       "2  3               Venusaur  Grass  Poison    525  80      82       83   \n",
       "3  3  VenusaurMega Venusaur  Grass  Poison    625  80     100      123   \n",
       "4  4             Charmander   Fire     NaN    309  39      52       43   \n",
       "\n",
       "   Sp. Atk  Sp. Def  Speed  Generation  Legendary  \n",
       "0       65       65     45           1      False  \n",
       "1       80       80     60           1      False  \n",
       "2      100      100     80           1      False  \n",
       "3      122      120     80           1      False  \n",
       "4       60       50     65           1      False  "
      ]
     },
     "execution_count": 10,
     "metadata": {},
     "output_type": "execute_result"
    }
   ],
   "source": [
    "df.head()"
   ]
  },
  {
   "cell_type": "code",
   "execution_count": 11,
   "metadata": {},
   "outputs": [
    {
     "data": {
      "text/html": [
       "<div>\n",
       "<style scoped>\n",
       "    .dataframe tbody tr th:only-of-type {\n",
       "        vertical-align: middle;\n",
       "    }\n",
       "\n",
       "    .dataframe tbody tr th {\n",
       "        vertical-align: top;\n",
       "    }\n",
       "\n",
       "    .dataframe thead th {\n",
       "        text-align: right;\n",
       "    }\n",
       "</style>\n",
       "<table border=\"1\" class=\"dataframe\">\n",
       "  <thead>\n",
       "    <tr style=\"text-align: right;\">\n",
       "      <th></th>\n",
       "      <th>Generation</th>\n",
       "      <th>#</th>\n",
       "      <th>Name</th>\n",
       "      <th>Type 1</th>\n",
       "      <th>Type 2</th>\n",
       "      <th>Total</th>\n",
       "      <th>HP</th>\n",
       "      <th>Attack</th>\n",
       "      <th>Defense</th>\n",
       "      <th>Sp. Atk</th>\n",
       "      <th>Sp. Def</th>\n",
       "      <th>Speed</th>\n",
       "      <th>Legendary</th>\n",
       "    </tr>\n",
       "  </thead>\n",
       "  <tbody>\n",
       "    <tr>\n",
       "      <th>0</th>\n",
       "      <td>1</td>\n",
       "      <td>82</td>\n",
       "      <td>82</td>\n",
       "      <td>82</td>\n",
       "      <td>46</td>\n",
       "      <td>82</td>\n",
       "      <td>82</td>\n",
       "      <td>82</td>\n",
       "      <td>82</td>\n",
       "      <td>82</td>\n",
       "      <td>82</td>\n",
       "      <td>82</td>\n",
       "      <td>82</td>\n",
       "    </tr>\n",
       "    <tr>\n",
       "      <th>1</th>\n",
       "      <td>2</td>\n",
       "      <td>54</td>\n",
       "      <td>54</td>\n",
       "      <td>54</td>\n",
       "      <td>29</td>\n",
       "      <td>54</td>\n",
       "      <td>54</td>\n",
       "      <td>54</td>\n",
       "      <td>54</td>\n",
       "      <td>54</td>\n",
       "      <td>54</td>\n",
       "      <td>54</td>\n",
       "      <td>54</td>\n",
       "    </tr>\n",
       "    <tr>\n",
       "      <th>2</th>\n",
       "      <td>3</td>\n",
       "      <td>70</td>\n",
       "      <td>70</td>\n",
       "      <td>70</td>\n",
       "      <td>33</td>\n",
       "      <td>70</td>\n",
       "      <td>70</td>\n",
       "      <td>70</td>\n",
       "      <td>70</td>\n",
       "      <td>70</td>\n",
       "      <td>70</td>\n",
       "      <td>70</td>\n",
       "      <td>70</td>\n",
       "    </tr>\n",
       "    <tr>\n",
       "      <th>3</th>\n",
       "      <td>4</td>\n",
       "      <td>56</td>\n",
       "      <td>56</td>\n",
       "      <td>56</td>\n",
       "      <td>24</td>\n",
       "      <td>56</td>\n",
       "      <td>56</td>\n",
       "      <td>56</td>\n",
       "      <td>56</td>\n",
       "      <td>56</td>\n",
       "      <td>56</td>\n",
       "      <td>56</td>\n",
       "      <td>56</td>\n",
       "    </tr>\n",
       "    <tr>\n",
       "      <th>4</th>\n",
       "      <td>5</td>\n",
       "      <td>70</td>\n",
       "      <td>70</td>\n",
       "      <td>70</td>\n",
       "      <td>42</td>\n",
       "      <td>70</td>\n",
       "      <td>70</td>\n",
       "      <td>70</td>\n",
       "      <td>70</td>\n",
       "      <td>70</td>\n",
       "      <td>70</td>\n",
       "      <td>70</td>\n",
       "      <td>70</td>\n",
       "    </tr>\n",
       "    <tr>\n",
       "      <th>5</th>\n",
       "      <td>6</td>\n",
       "      <td>17</td>\n",
       "      <td>17</td>\n",
       "      <td>17</td>\n",
       "      <td>5</td>\n",
       "      <td>17</td>\n",
       "      <td>17</td>\n",
       "      <td>17</td>\n",
       "      <td>17</td>\n",
       "      <td>17</td>\n",
       "      <td>17</td>\n",
       "      <td>17</td>\n",
       "      <td>17</td>\n",
       "    </tr>\n",
       "  </tbody>\n",
       "</table>\n",
       "</div>"
      ],
      "text/plain": [
       "   Generation   #  Name  Type 1  Type 2  Total  HP  Attack  Defense  Sp. Atk  \\\n",
       "0           1  82    82      82      46     82  82      82       82       82   \n",
       "1           2  54    54      54      29     54  54      54       54       54   \n",
       "2           3  70    70      70      33     70  70      70       70       70   \n",
       "3           4  56    56      56      24     56  56      56       56       56   \n",
       "4           5  70    70      70      42     70  70      70       70       70   \n",
       "5           6  17    17      17       5     17  17      17       17       17   \n",
       "\n",
       "   Sp. Def  Speed  Legendary  \n",
       "0       82     82         82  \n",
       "1       54     54         54  \n",
       "2       70     70         70  \n",
       "3       56     56         56  \n",
       "4       70     70         70  \n",
       "5       17     17         17  "
      ]
     },
     "execution_count": 11,
     "metadata": {},
     "output_type": "execute_result"
    }
   ],
   "source": [
    "# Initial Filteration of Dataframe into only the Top Types and grouped by Generations.\n",
    "req_types = [\"Water\",\"Normal\",\"Grass\",\"Bug\"]\n",
    "filteredf = df[df['Type 1'].isin(req_types)]\n",
    "\n",
    "adf = filteredf.groupby(['Generation'], as_index = False).count()\n",
    "adf"
   ]
  },
  {
   "cell_type": "code",
   "execution_count": 12,
   "metadata": {},
   "outputs": [],
   "source": [
    "# Now counting the total number of Pokemon per Generation and Type.\n",
    "def genwtr(n):\n",
    "    wtr = df[(df['Generation'] == n) & (df['Type 1'] == \"Water\")].count()\n",
    "    return wtr['Name']\n",
    "\n",
    "def gennrml(n):\n",
    "    nrml = df[(df['Generation'] == n) & (df['Type 1'] == \"Normal\")].count()\n",
    "    return nrml['Name']\n",
    "\n",
    "def gengrs(n):\n",
    "    grs = df[(df['Generation'] == n) & (df['Type 1'] == \"Grass\")].count()\n",
    "    return grs['Name']\n",
    "\n",
    "def genbug(n):\n",
    "    bug = df[(df['Generation'] == n) & (df['Type 1'] == \"Bug\")].count()\n",
    "    return bug['Name']\n"
   ]
  },
  {
   "cell_type": "code",
   "execution_count": 18,
   "metadata": {},
   "outputs": [],
   "source": [
    "# Count of the Water Pokemons in All Generations\n",
    "a = genwtr(1)\n",
    "b = genwtr(2)\n",
    "c = genwtr(3)\n",
    "d = genwtr(4)\n",
    "e = genwtr(5)\n",
    "f = genwtr(6)\n",
    "\n",
    "waterpokemons = [a,b,c,d,e,f]\n",
    "waterpokemons2 = np.asarray(waterpokemons)"
   ]
  },
  {
   "cell_type": "code",
   "execution_count": 19,
   "metadata": {},
   "outputs": [],
   "source": [
    "# Count of the Normal Pokemons in All Generations\n",
    "g = gennrml(1)\n",
    "h = gennrml(2)\n",
    "i = gennrml(3)\n",
    "j = gennrml(4)\n",
    "k = gennrml(5)\n",
    "l = gennrml(6)\n",
    "\n",
    "normalpokemons = [g,h,i,j,k,l]\n",
    "normalpokemons2 = np.asarray(normalpokemons)"
   ]
  },
  {
   "cell_type": "code",
   "execution_count": 20,
   "metadata": {},
   "outputs": [],
   "source": [
    "# Count of the Grass Pokemons in All Generations\n",
    "m = gengrs(1)\n",
    "n = gengrs(2)\n",
    "o = gengrs(3)\n",
    "p = gengrs(4)\n",
    "q = gengrs(5)\n",
    "r = gengrs(6)\n",
    "\n",
    "grasspokemons = [m,n,o,p,q,r]\n",
    "grasspokemons2 = np.asarray(grasspokemons)"
   ]
  },
  {
   "cell_type": "code",
   "execution_count": 22,
   "metadata": {},
   "outputs": [],
   "source": [
    "# Count of the Bug Pokemons in All Generations\n",
    "s = genbug(1)\n",
    "t = genbug(2)\n",
    "u = genbug(3)\n",
    "v = genbug(4)\n",
    "w = genbug(5)\n",
    "x = genbug(6)\n",
    "\n",
    "bugpokemons = [s,t,u,v,w,x]\n",
    "bugpokemons2 = np.asarray(bugpokemons)"
   ]
  },
  {
   "cell_type": "code",
   "execution_count": 23,
   "metadata": {},
   "outputs": [
    {
     "data": {
      "image/png": "[encoded data removed]",
      "text/plain": [
       "<Figure size 432x288 with 1 Axes>"
      ]
     },
     "metadata": {
      "needs_background": "light"
     },
     "output_type": "display_data"
    }
   ],
   "source": [
    "#Now to Plot a STACKED BAR GRAPH!\n",
    "labelx = ['Gen 1', 'Gen 2', 'Gen 3', 'Gen 4', 'Gen 5', 'Gen 6']\n",
    "width = 0.8\n",
    "\n",
    "fig, mygraph = plt.subplots()\n",
    "\n",
    "mygraph.bar(labelx, waterpokemons2, width, label = \"Water\")\n",
    "mygraph.bar(labelx, normalpokemons2, width, bottom = waterpokemons2, label = \"Normal\")\n",
    "mygraph.bar(labelx, grasspokemons2, width, bottom = waterpokemons2+normalpokemons2, label = \"Grass\")\n",
    "mygraph.bar(labelx, bugpokemons2, width, bottom = waterpokemons2+normalpokemons2+grasspokemons2, label = \"Bug\")\n",
    "\n",
    "mygraph.set_ylabel('Number of Pokemons')\n",
    "mygraph.set_title('Pokemons By Types and Generations')\n",
    "mygraph.legend()\n",
    "\n",
    "plt.show()"
   ]
  },
  {
   "cell_type": "code",
   "execution_count": 24,
   "metadata": {},
   "outputs": [
    {
     "data": {
      "image/png": "[encoded data removed]",
      "text/plain": [
       "<Figure size 432x288 with 1 Axes>"
      ]
     },
     "metadata": {},
     "output_type": "display_data"
    }
   ],
   "source": [
    "import seaborn as sb\n",
    "sb.set()\n",
    "\n",
    "fig = plt.figure()\n",
    "ax = fig.add_subplot(111)\n",
    "ax.hist(get_type(df, 'Psychic')['Total'], color='mediumorchid');"
   ]
  },
  {
   "cell_type": "markdown",
   "metadata": {},
   "source": [
    "Just `import seaborn` and `sb.set()` and we're good to go! The library also has its own api, you can see some example [here](https://seaborn.pydata.org/examples/index.html)."
   ]
  },
  {
   "cell_type": "code",
   "execution_count": 25,
   "metadata": {},
   "outputs": [
    {
     "data": {
      "image/png": "[encoded data removed]",
      "text/plain": [
       "<Figure size 432x288 with 1 Axes>"
      ]
     },
     "metadata": {},
     "output_type": "display_data"
    }
   ],
   "source": [
    "#Code By Camille for the same task 'Version 1.0'\n",
    "\n",
    "import matplotlib.pyplot as plt\n",
    "\n",
    "def filter_type(df, type_name):\n",
    "    return df[df['Type 1'] == type_name]\n",
    "\n",
    "water_df = filter_type(df, 'Water')\n",
    "normal_df = filter_type(df, 'Normal')\n",
    "grass_df = filter_type(df, 'Grass')\n",
    "bug_df = filter_type(df, 'Bug')\n",
    "\n",
    "def counts_by_gen(df):\n",
    "    return df.groupby(['Generation']).count()['Name']\n",
    "\n",
    "water_counts = counts_by_gen(water_df)\n",
    "normal_counts = counts_by_gen(normal_df)\n",
    "grass_counts = counts_by_gen(grass_df)\n",
    "bug_counts = counts_by_gen(bug_df)\n",
    "\n",
    "\n",
    "fig, ax = plt.subplots()\n",
    "ax.bar(water_counts.index, water_counts, 0.8, label = \"Water\", color='b')\n",
    "ax.bar(normal_counts.index, normal_counts, 0.8, bottom = water_counts, label = \"Normal\", color='r')\n",
    "ax.bar(grass_counts.index, grass_counts, 0.8, bottom = water_counts + normal_counts, label = \"Grass\", color='g')\n",
    "ax.bar(bug_counts.index, bug_counts, 0.8, bottom = water_counts + normal_counts + grass_counts, label = \"Bug\", color='c');"
   ]
  },
  {
   "cell_type": "markdown",
   "metadata": {},
   "source": [
    "## Summary\n",
    "\n",
    "Today was our introduction to **data visualization**. We learned the difference between **data literacy** and **visual literacy**, and why those are so important to data science. We learned tricks and good practices to improve our **data story-telling**. For example, we now know that **minimalism** in graph design makes for clear and concise plots. We also saw how **colors**, **text**, and **conventions** all matter to convey information effectively. We identified how visualization can be used for both data **exploration** and **communication**, and highlighted the workflow differences between the two. Finally, we revisited our pokemon trainer ambitions and compared distributions with customized **violin plots** in **matplotlib**.\n",
    "\n",
    "This concludes our section on data exploration! 🎊Next week, we start data analysis with a lesson on clustering.\n",
    "\n",
    "\n",
    "# Resources\n",
    "\n",
    "\n",
    "### Core Resources\n",
    "\n",
    "- [**Slides**](https://docs.google.com/presentation/d/1CFFTL2ulybHNXumfG37I_TfKSMQhu2tc4sq-iZMPecY/edit?usp=sharing)\n",
    "- [matplotlib tutorial](https://nbviewer.jupyter.org/github/jrjohansson/scientific-python-lectures/blob/master/Lecture-4-Matplotlib.ipynb)  \n",
    "A jupyter notebook introduction to matplotlib\n",
    "- [Data visualization methods in python](https://machinelearningmastery.com/data-visualization-methods-in-python/)   \n",
    "Breakdown of common matplotlib graphs\n",
    "- [Dataviz blog](https://www.data-to-viz.com)  \n",
    "Excellent portal of useful data viz resources, including a decision tree to choose graphs, and a list of typical graph caveats\n",
    "\n",
    "### Additional Resources\n",
    "\n",
    "- [The python graph gallery](https://python-graph-gallery.com/)  \n",
    "Example of many beautiful python graphs\n",
    "- [Data science cheat sheet - data visualization](https://github.com/abhat222/Data-Science--Cheat-Sheet/tree/master/Data%20Visualization)  \n",
    "List of resources for data visualization\n",
    "- [Analytics storytelling for impact](https://www.edx.org/course/analytics-storytelling-for-impact-2)  \n",
    "Free course to craft data analytics communication with storytelling\n",
    "- [The best stats you've ever seen](https://youtu.be/usdJgEwMinM)  \n",
    "Classic TED talk from one of the greats of data visualization, Hans Rosling\n",
    "- [visualisingdata](https://www.visualisingdata.com/)  \n",
    "Great blog/portal for all things visualisation, including a monthly digest of the best data viz on the web\n",
    "- [Color theory dos and donts for data visualization](https://infogram.com/blog/color-theory-dos-and-donts-for-data-visualization/)  \n",
    "Guidelines for choosing colors for your graphs\n",
    "- [Data looks better naked](https://www.darkhorseanalytics.com/blog/data-looks-better-naked)  \n",
    "Source of \"data minimalism\" gif in the slides\n",
    "- [Python data visualization demos](https://www.kaggle.com/benhamner/python-data-visualizations)  \n",
    "Great examples of matplotlib graphs on the iris dataset\n",
    "- [Analysis of OK Cupid dataset with matplotlib](https://nbviewer.jupyter.org/github/lalelale/profiles_analysis/blob/master/profiles.ipynb)  \n",
    "Great examples of matplotlib graphs on an OK Cupid dataset\n",
    "- [The visual display of quantitative information](https://www.amazon.com/Visual-Display-Quantitative-Information/dp/0961392142/ref=as_li_ss_tl?ie=UTF8&qid=1521082239&sr=8-16&keywords=data+visualization&linkCode=sl1&tag=inspiredalgor-20&linkId=cd8082f9213b87a44ec7207ba162d89a)  \n",
    "The holy book of Data Visualization, beautiful and captivating\n",
    "- [Big data visualization](https://youtu.be/WWKxzjKzN3A)  \n",
    "Siraj on data viz\n",
    "- [WTF visualizations](https://viz.wtf/)  \n",
    "Examples of what _not_ to do with your graphs\n",
    "- [How to choose the correct visualization tool](https://source.opennews.org/articles/what-i-learned-recreating-one-chart-using-24-tools/)  \n",
    "Comparison of 24 plotting frameworks"
   ]
  }
 ],
 "metadata": {
  "kernelspec": {
   "display_name": "Python 3",
   "language": "python",
   "name": "python3"
  },
  "language_info": {
   "codemirror_mode": {
    "name": "ipython",
    "version": 3
   },
   "file_extension": ".py",
   "mimetype": "text/x-python",
   "name": "python",
   "nbconvert_exporter": "python",
   "pygments_lexer": "ipython3",
   "version": "3.8.2"
  }
 },
 "nbformat": 4,
 "nbformat_minor": 4
}
